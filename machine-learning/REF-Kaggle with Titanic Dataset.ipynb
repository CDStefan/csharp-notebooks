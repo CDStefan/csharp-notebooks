{
  "cells": [
    {
      "cell_type": "markdown",
      "metadata": {},
      "source": [
        "# Kaggle Compeition with Titanic Dataset using ML.NET AutoML"
      ]
    },
    {
      "cell_type": "markdown",
      "metadata": {},
      "source": [
        "This notebook shows how to anticipate the [well-known titanic competition](https://www.kaggle.com/c/titanic) on kaggle using ml.net. In this notebook, you will learn how to\n",
        "- Create pipeline for titanic\n",
        "- Use AutoML API to run hyper-parameter optimization on that pipeline and get the best model\n",
        "- Predict using the best model, and save predicting result to csv for submission"
      ]
    },
    {
      "cell_type": "markdown",
      "metadata": {},
      "source": [
        "## Install NuGet packages for training ML.NET models and plotting:"
      ]
    },
    {
      "cell_type": "code",
      "execution_count": 1,
      "metadata": {
        "dotnet_interactive": {
          "language": "csharp"
        },
        "vscode": {
          "languageId": "polyglot-notebook"
        }
      },
      "outputs": [
        {
          "data": {
            "text/html": [
              "<div><div><strong>Restore sources</strong><ul><li><span> https://api.nuget.org/v3/index.json</span></li></ul></div><div></div><div><strong>Installed Packages</strong><ul><li><span>Microsoft.Data.Analysis, 0.21.1</span></li><li><span>Microsoft.ML.AutoML, 0.21.1</span></li><li><span>Plotly.NET.CSharp, 0.13.0</span></li><li><span>Plotly.NET.Interactive, 5.0.0</span></li></ul></div></div>"
            ]
          },
          "metadata": {},
          "output_type": "display_data"
        },
        {
          "data": {
            "text/plain": [
              "Loading extensions from `C:\\Users\\scaravelea\\.nuget\\packages\\microsoft.ml.automl\\0.21.1\\interactive-extensions\\dotnet\\Microsoft.ML.AutoML.Interactive.dll`"
            ]
          },
          "metadata": {},
          "output_type": "display_data"
        },
        {
          "data": {
            "text/plain": [
              "Loading extensions from `C:\\Users\\scaravelea\\.nuget\\packages\\plotly.net.interactive\\5.0.0\\lib\\netstandard2.1\\Plotly.NET.Interactive.dll`"
            ]
          },
          "metadata": {},
          "output_type": "display_data"
        },
        {
          "data": {
            "text/plain": [
              "Loading extensions from `C:\\Users\\scaravelea\\.nuget\\packages\\microsoft.data.analysis\\0.21.1\\interactive-extensions\\dotnet\\Microsoft.Data.Analysis.Interactive.dll`"
            ]
          },
          "metadata": {},
          "output_type": "display_data"
        },
        {
          "data": {
            "text/plain": [
              "Loading extensions from `C:\\Users\\scaravelea\\.nuget\\packages\\skiasharp\\2.88.6\\interactive-extensions\\dotnet\\SkiaSharp.DotNet.Interactive.dll`"
            ]
          },
          "metadata": {},
          "output_type": "display_data"
        }
      ],
      "source": [
        "// using nightly-build\n",
        "// #i \"nuget:https://pkgs.dev.azure.com/dnceng/public/_packaging/MachineLearning/nuget/v3/index.json\"\n",
        "// #i \"nuget:https://pkgs.dev.azure.com/dnceng/public/_packaging/dotnet5/nuget/v3/index.json\"\n",
        "// #i \"nuget:https://pkgs.dev.azure.com/dnceng/public/_packaging/dotnet-tools/nuget/v3/index.json\"\n",
        "#i \"nuget: https://api.nuget.org/v3/index.json\"\n",
        "#r \"nuget: Plotly.NET.Interactive\"\n",
        "#r \"nuget: Plotly.NET.CSharp\"\n",
        "#r \"nuget: Microsoft.ML.AutoML\"\n",
        "#r \"nuget: Microsoft.Data.Analysis\""
      ]
    },
    {
      "cell_type": "markdown",
      "metadata": {},
      "source": [
        "## Import packages"
      ]
    },
    {
      "cell_type": "code",
      "execution_count": 1,
      "metadata": {
        "dotnet_interactive": {
          "language": "csharp"
        },
        "vscode": {
          "languageId": "polyglot-notebook"
        }
      },
      "outputs": [],
      "source": [
        "// Import usings.\n",
        "using Microsoft.Data.Analysis;\n",
        "using System;\n",
        "using System.IO;\n",
        "using Microsoft.ML;\n",
        "using Microsoft.ML.AutoML;\n",
        "using Microsoft.ML.Data;"
      ]
    },
    {
      "cell_type": "markdown",
      "metadata": {},
      "source": [
        "## Load Dataset\n",
        "The dataset comes from [kaggle titanic](https://www.kaggle.com/competitions/titanic/data) and is split into __train.csv__ and __test.csv__. __train.csv__ includes feature columns like `Sex`, `Pclass`, etc.. and also ground truth label for us to train a model while __test.csv__ only contains feature columns.\n",
        "\n",
        "In the following section, we are going to load and split __train.csv__ into training and validation set using `DataFrame` api, and preview the first 10 line of it."
      ]
    },
    {
      "cell_type": "markdown",
      "metadata": {},
      "source": [
        "#### Download or Locate Data\n",
        "The following code tries to locate the data file in a few known locations or it will download it from the known GitHub location."
      ]
    },
    {
      "cell_type": "code",
      "execution_count": 1,
      "metadata": {
        "dotnet_interactive": {
          "language": "csharp"
        },
        "vscode": {
          "languageId": "polyglot-notebook"
        }
      },
      "outputs": [],
      "source": [
        "using System;\n",
        "using System.IO;\n",
        "using System.Net;\n",
        "\n",
        "string EnsureDataSetDownloaded(string fileName)\n",
        "{\n",
        "\n",
        "\t// This is the path if the repo has been checked out.\n",
        "\tvar filePath = Path.Combine(Directory.GetCurrentDirectory(),\"data\", fileName);\n",
        "\n",
        "\tif (!File.Exists(filePath))\n",
        "\t{\n",
        "\t\t// This is the path if the file has already been downloaded.\n",
        "\t\tfilePath = Path.Combine(Directory.GetCurrentDirectory(), fileName);\n",
        "\t}\n",
        "\n",
        "\tif (!File.Exists(filePath))\n",
        "\t{\n",
        "\t\tusing (var client = new WebClient())\n",
        "\t\t{\n",
        "\t\t\tclient.DownloadFile($\"https://raw.githubusercontent.com/dotnet/csharp-notebooks/main/machine-learning/data/{fileName}\", filePath);\n",
        "\t\t}\n",
        "\t\tConsole.WriteLine($\"Downloaded {fileName}  to : {filePath}\");\n",
        "\t}\n",
        "\telse\n",
        "\t{\n",
        "\t\tConsole.WriteLine($\"{fileName} found here: {filePath}\");\n",
        "\t}\n",
        "\n",
        "\treturn filePath;\n",
        "}"
      ]
    },
    {
      "cell_type": "code",
      "execution_count": 1,
      "metadata": {
        "dotnet_interactive": {
          "language": "csharp"
        },
        "vscode": {
          "languageId": "polyglot-notebook"
        }
      },
      "outputs": [],
      "source": [
        "var context = new MLContext();\n",
        "\n",
        "//Load File\n",
        "var trainDataPath = EnsureDataSetDownloaded(\"titanic-train.csv\");\n",
        "var df = DataFrame.LoadCsv(trainDataPath);\n",
        "\n",
        "var trainTestSplit = context.Data.TrainTestSplit(df, 0.1);\n",
        "df.Head(10)"
      ]
    },
    {
      "cell_type": "markdown",
      "metadata": {},
      "source": [
        "### Construct training pipeline\n",
        "The following code shows how to construct sweepable pipeline with default binary classifiers and search space for hyper-parameter optimization. The sweepable pipeline comes with featurize pipeline first, which transfers columns into a single feature and then feeds into binary classifiers."
      ]
    },
    {
      "cell_type": "code",
      "execution_count": 1,
      "metadata": {
        "dotnet_interactive": {
          "language": "csharp"
        },
        "vscode": {
          "languageId": "polyglot-notebook"
        }
      },
      "outputs": [],
      "source": [
        "var pipeline = context.Auto().Featurizer(df, excludeColumns: new[]{\"Survived\"})\n",
        "                        .Append(context.Transforms.Conversion.ConvertType(\"Survived\", \"Survived\", DataKind.Boolean))\n",
        "\t\t\t\t\t    .Append(context.Auto().BinaryClassification(labelColumnName: \"Survived\", useFastForest: false, useSdca: false, useLbfgs: false));"
      ]
    },
    {
      "cell_type": "markdown",
      "metadata": {},
      "source": [
        "### Run Hyper-parameter optimization using AutoMLExperiment\n",
        "The following code shows how to use `AutoMLExperiment` to sweep over the sweepable pipeline created before and optimize for the best parameters. During the 300 seconds training time budget, it will train model on `trainTestSplit.TrainSet`, and evaluate model with `trainTestSplit.TestSet` using `Accuracy` metric. While training, the `NotebookMonitor` helps organize the experiment output and plotting it in output panel. "
      ]
    },
    {
      "cell_type": "code",
      "execution_count": 1,
      "metadata": {
        "dotnet_interactive": {
          "language": "csharp"
        },
        "vscode": {
          "languageId": "polyglot-notebook"
        }
      },
      "outputs": [],
      "source": [
        "// Configure AutoML\n",
        "var monitor = new NotebookMonitor();\n",
        "\n",
        "var experiment = context.Auto().CreateExperiment()\n",
        "                    .SetPipeline(pipeline)\n",
        "                    .SetTrainingTimeInSeconds(60)\n",
        "                    .SetDataset(trainTestSplit.TrainSet, trainTestSplit.TestSet)\n",
        "                    .SetEvaluateMetric(BinaryClassificationMetric.Accuracy, \"Survived\", \"PredictedLabel\")\n",
        "                    .SetMonitor(monitor);\n",
        "\n",
        "// Configure Visualizer\t\t\t\n",
        "monitor.SetUpdate(monitor.Display());\n",
        "\n",
        "// Start Experiment\n",
        "var res = await experiment.RunAsync();"
      ]
    },
    {
      "cell_type": "markdown",
      "metadata": {},
      "source": [
        "## Predicting result from __test.csv__ and write it to csv for submission\n",
        "The following code shows how to consume the best model from previous AutoMLExperiment, generate prediction result and save it to csv. The score for submission should be around 78% and beats over 90% of total submissions."
      ]
    },
    {
      "cell_type": "code",
      "execution_count": 1,
      "metadata": {
        "dotnet_interactive": {
          "language": "csharp"
        },
        "vscode": {
          "languageId": "polyglot-notebook"
        }
      },
      "outputs": [],
      "source": [
        "var bestModel = res.Model;\n",
        "var testDataPath = EnsureDataSetDownloaded(\"titanic-test.csv\");\n",
        "var submissionCsvPath = EnsureDataSetDownloaded(\"titanic-submission.csv\");\n",
        "\n",
        "var testDf = DataFrame.LoadCsv(testDataPath,guessRows: 200);\n",
        "var predictionResult = bestModel.Transform(testDf);\n",
        "var survived = predictionResult.GetColumn<bool>(\"PredictedLabel\");\n",
        "var passengerId = predictionResult.GetColumn<float>(\"PassengerId\");\n",
        "\n",
        "var submissionDf = new DataFrame();\n",
        "submissionDf[\"PassengerId\"] = DataFrameColumn.Create(\"PassengerId\", passengerId);\n",
        "submissionDf[\"Survived\"] = DataFrameColumn.Create(\"Survived\", survived.Select(x => x ? 1 : 0));\n",
        "DataFrame.WriteCsv(submissionDf, submissionCsvPath);\n",
        "\n",
        "submissionDf.Head(10)"
      ]
    },
    {
      "cell_type": "markdown",
      "metadata": {},
      "source": [
        "## How can I improve the result\n",
        "If you are looking for improve the submission result, feature engineering should always be the first thing you try. The featurizer pipeline this notebook uses is automatically generated by [ML.Net ModelBuilder]() based on hard-code rules so there's a huge room for improvement! Bring your human knowledge and imagination when featurizing columns, digging more information behind them. For example. departure and arrival information is available from `Ticket`. `Name` also includes ton of useful information as well, last name might indicate their social status, which proves to be strongly related to survival rate. There's no limitation in feature engineering, use your imagination and explore!"
      ]
    }
  ],
  "metadata": {
    "kernelspec": {
      "display_name": ".NET (C#)",
      "language": "C#",
      "name": ".net-csharp"
    },
    "language_info": {
      "file_extension": ".cs",
      "mimetype": "text/x-csharp",
      "name": "C#",
      "pygments_lexer": "csharp",
      "version": "8.0"
    },
    "polyglot_notebook": {
      "kernelInfo": {
        "defaultKernelName": "csharp",
        "items": [
          {
            "aliases": [],
            "name": "csharp"
          }
        ]
      }
    }
  },
  "nbformat": 4,
  "nbformat_minor": 4
}
