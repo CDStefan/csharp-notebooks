{
  "cells": [
    {
      "cell_type": "markdown",
      "metadata": {},
      "source": [
        "# Data Processing with DataFrame \n",
        "\n",
        "[DataFrames](https://docs.microsoft.com/dotnet/api/microsoft.data.analysis.dataframe?view=ml-dotnet-preview) are an easy way to explore and manipulate data. We can load, convert, and combine data.  \n",
        "\n",
        "Let's take a look at the following examples of hockey data. We have information on US and European players, plus a list of player salaries. Let's combine all of this into a single dataset for predicting salaries. Let's normalize the data of US and European players, combine them into one source, and then union with player salaries.  "
      ]
    },
    {
      "cell_type": "markdown",
      "metadata": {},
      "source": [
        "## Load packages\n",
        "\n",
        "Get data frame api, visualization and formatting."
      ]
    },
    {
      "cell_type": "code",
      "execution_count": 1,
      "metadata": {
        "dotnet_interactive": {
          "language": "csharp"
        },
        "polyglot_notebook": {
          "kernelName": "csharp"
        },
        "vscode": {
          "languageId": "polyglot-notebook"
        }
      },
      "outputs": [
        {
          "data": {
            "text/html": [
              "<div><div><strong>Restore sources</strong><ul><li><span> https://api.nuget.org/v3/index.json</span></li><li><span>https://pkgs.dev.azure.com/dnceng/public/_packaging/dotnet-tools/nuget/v3/index.json</span></li><li><span>https://pkgs.dev.azure.com/dnceng/public/_packaging/dotnet5/nuget/v3/index.json</span></li></ul></div><div></div><div></div></div>"
            ]
          },
          "metadata": {},
          "output_type": "display_data"
        }
      ],
      "source": [
        "// Referencing to data sources\n",
        "#i \"nuget:https://pkgs.dev.azure.com/dnceng/public/_packaging/dotnet5/nuget/v3/index.json\"\n",
        "#i \"nuget:https://pkgs.dev.azure.com/dnceng/public/_packaging/dotnet-tools/nuget/v3/index.json\"\n",
        "#i \"nuget: https://api.nuget.org/v3/index.json\""
      ]
    },
    {
      "cell_type": "code",
      "execution_count": 2,
      "metadata": {
        "dotnet_interactive": {
          "language": "csharp"
        },
        "polyglot_notebook": {
          "kernelName": "csharp"
        },
        "vscode": {
          "languageId": "polyglot-notebook"
        }
      },
      "outputs": [
        {
          "data": {
            "text/html": [
              "<div><div><strong>Restore sources</strong><ul><li><span> https://api.nuget.org/v3/index.json</span></li><li><span>https://pkgs.dev.azure.com/dnceng/public/_packaging/dotnet-tools/nuget/v3/index.json</span></li><li><span>https://pkgs.dev.azure.com/dnceng/public/_packaging/dotnet5/nuget/v3/index.json</span></li></ul></div><div></div><div><strong>Installed Packages</strong><ul><li><span>Microsoft.Data.Analysis, 0.21.1</span></li></ul></div></div>"
            ]
          },
          "metadata": {},
          "output_type": "display_data"
        },
        {
          "data": {
            "text/plain": [
              "Loading extensions from `C:\\Users\\scaravelea\\.nuget\\packages\\microsoft.data.analysis\\0.21.1\\interactive-extensions\\dotnet\\Microsoft.Data.Analysis.Interactive.dll`"
            ]
          },
          "metadata": {},
          "output_type": "display_data"
        }
      ],
      "source": [
        "#r \"nuget: Microsoft.Data.Analysis\"\n"
      ]
    },
    {
      "cell_type": "code",
      "execution_count": 3,
      "metadata": {
        "dotnet_interactive": {
          "language": "csharp"
        },
        "polyglot_notebook": {
          "kernelName": "csharp"
        },
        "vscode": {
          "languageId": "polyglot-notebook"
        }
      },
      "outputs": [
        {
          "data": {
            "text/html": [
              "<div><div><strong>Restore sources</strong><ul><li><span> https://api.nuget.org/v3/index.json</span></li><li><span>https://pkgs.dev.azure.com/dnceng/public/_packaging/dotnet-tools/nuget/v3/index.json</span></li><li><span>https://pkgs.dev.azure.com/dnceng/public/_packaging/dotnet5/nuget/v3/index.json</span></li></ul></div><div></div><div><strong>Installed Packages</strong><ul><li><span>Microsoft.ML, 3.0.1</span></li></ul></div></div>"
            ]
          },
          "metadata": {},
          "output_type": "display_data"
        }
      ],
      "source": [
        "#r \"nuget: Microsoft.ML\""
      ]
    },
    {
      "cell_type": "markdown",
      "metadata": {},
      "source": [
        "## Inspect data\n",
        "\n",
        "Let's get started loading our data on the players from the US into a DataFrame."
      ]
    },
    {
      "cell_type": "markdown",
      "metadata": {},
      "source": [
        "#### Download or Locate Data\n",
        "The following code tries to locate the data file in a few known locations or it will download it from the known GitHub location."
      ]
    },
    {
      "cell_type": "code",
      "execution_count": 10,
      "metadata": {
        "dotnet_interactive": {
          "language": "csharp"
        },
        "vscode": {
          "languageId": "polyglot-notebook"
        }
      },
      "outputs": [],
      "source": [
        "using System;\n",
        "using System.IO;\n",
        "using System.Net;\n",
        "\n",
        "string EnsureDataSetDownloaded(string fileName)\n",
        "{\n",
        "\n",
        "\t// This is the path if the repo has been checked out.\n",
        "\tvar filePath = Path.Combine(Directory.GetCurrentDirectory(),\"data\", fileName);\n",
        "\n",
        "\tif (!File.Exists(filePath))\n",
        "\t{\n",
        "\t\t// This is the path if the file has already been downloaded.\n",
        "\t\tfilePath = Path.Combine(Directory.GetCurrentDirectory(), fileName);\n",
        "\t}\n",
        "\n",
        "\tif (!File.Exists(filePath))\n",
        "\t{\n",
        "\t\tusing (var client = new WebClient())\n",
        "\t\t{\n",
        "\t\t\tclient.DownloadFile($\"https://raw.githubusercontent.com/dotnet/csharp-notebooks/main/machine-learning/data/{fileName}\", filePath);\n",
        "\t\t}\n",
        "\t\tConsole.WriteLine($\"Downloaded {fileName}  to : {filePath}\");\n",
        "\t}\n",
        "\telse\n",
        "\t{\n",
        "\t\tConsole.WriteLine($\"{fileName} found here: {filePath}\");\n",
        "\t}\n",
        "\n",
        "\treturn filePath;\n",
        "}"
      ]
    },
    {
      "cell_type": "code",
      "execution_count": null,
      "metadata": {
        "dotnet_interactive": {
          "language": "csharp"
        },
        "vscode": {
          "languageId": "polyglot-notebook"
        }
      },
      "outputs": [],
      "source": [
        "using System.Linq;\n",
        "using Microsoft.Data.Analysis;\n",
        "\n",
        "var usaDataPath = EnsureDataSetDownloaded(\"usa_hockey.csv\"); \n",
        "var usaDf = DataFrame.LoadCsv(usaDataPath);"
      ]
    },
    {
      "cell_type": "markdown",
      "metadata": {},
      "source": [
        "DataFrames store data as a collection of columns. This makes it easy to interact with the data. To get a preview of the columns, we'll run `Info()`.\n",
        "\n",
        "Here we have a information about the players, where they were born, their height and weight, etc. We also have statistics on their play, like the number of goals/assists, points scored, and games played. \n",
        "\n",
        "We can already see that some fields have fewer values than other. Draft year is only available for 7 out of 10 players. "
      ]
    },
    {
      "cell_type": "code",
      "execution_count": null,
      "metadata": {
        "dotnet_interactive": {
          "language": "csharp"
        },
        "vscode": {
          "languageId": "polyglot-notebook"
        }
      },
      "outputs": [],
      "source": [
        "usaDf.Info()"
      ]
    },
    {
      "cell_type": "markdown",
      "metadata": {},
      "source": [
        "Take a look at the actual data. Everything looks pretty normal, but there are some null values. "
      ]
    },
    {
      "cell_type": "code",
      "execution_count": null,
      "metadata": {
        "dotnet_interactive": {
          "language": "csharp"
        },
        "vscode": {
          "languageId": "polyglot-notebook"
        }
      },
      "outputs": [],
      "source": [
        "usaDf"
      ]
    },
    {
      "cell_type": "markdown",
      "metadata": {},
      "source": [
        "### Europe data\n",
        "\n",
        "We also have data for some European players. Let's preview the data and see how it's different. "
      ]
    },
    {
      "cell_type": "code",
      "execution_count": null,
      "metadata": {
        "dotnet_interactive": {
          "language": "csharp"
        },
        "vscode": {
          "languageId": "polyglot-notebook"
        }
      },
      "outputs": [],
      "source": [
        "var europeDataPath = EnsureDataSetDownloaded(\"europe_hockey.csv\"); \n",
        "var europeDf = DataFrame.LoadCsv(europeDataPath);\n",
        "europeDf.Info()"
      ]
    },
    {
      "cell_type": "markdown",
      "metadata": {},
      "source": [
        "The values look very similar to the US players. One difference is height is in centimeters and weight is in kilograms. Some of the values in this file are missing too. "
      ]
    },
    {
      "cell_type": "code",
      "execution_count": null,
      "metadata": {
        "dotnet_interactive": {
          "language": "csharp"
        },
        "vscode": {
          "languageId": "polyglot-notebook"
        }
      },
      "outputs": [],
      "source": [
        "europeDf"
      ]
    },
    {
      "cell_type": "markdown",
      "metadata": {},
      "source": [
        "Looking at the acutal data we can see that birthday is in a different format YY-MM-DD format. \n",
        "\n",
        "Let's dive in a little further and see which countries are represented here. "
      ]
    },
    {
      "cell_type": "code",
      "execution_count": null,
      "metadata": {
        "dotnet_interactive": {
          "language": "csharp"
        },
        "vscode": {
          "languageId": "polyglot-notebook"
        }
      },
      "outputs": [],
      "source": [
        "europeDf[\"Nat\"].ValueCounts()"
      ]
    },
    {
      "cell_type": "markdown",
      "metadata": {},
      "source": [
        "## Convert data\n",
        "\n",
        "Now that we know something about the data let's normalize and combine these data sources into one. "
      ]
    },
    {
      "cell_type": "markdown",
      "metadata": {},
      "source": [
        "Europe players have height and weight in kilograms and centimeters. Since these are players are in the NHL, let's convert these values into pounds and inches to match the American players."
      ]
    },
    {
      "cell_type": "code",
      "execution_count": 18,
      "metadata": {
        "dotnet_interactive": {
          "language": "csharp"
        },
        "vscode": {
          "languageId": "polyglot-notebook"
        }
      },
      "outputs": [],
      "source": [
        "europeDf[\"Weight_kg\"] = europeDf[\"Weight_kg\"].Multiply(2.20462262).Round(); \n",
        "europeDf[\"Height_cm\"] = europeDf[\"Height_cm\"].Divide(2.54).Round();\n",
        "\n",
        "europeDf[\"Weight_kg\"].SetName(\"Weight\"); \n",
        "europeDf[\"Height_cm\"].SetName(\"Height\");"
      ]
    },
    {
      "cell_type": "markdown",
      "metadata": {},
      "source": [
        "Let's also convert the European birthday to the American format for consistency. "
      ]
    },
    {
      "cell_type": "code",
      "execution_count": 21,
      "metadata": {
        "dotnet_interactive": {
          "language": "csharp"
        },
        "vscode": {
          "languageId": "polyglot-notebook"
        }
      },
      "outputs": [],
      "source": [
        "// There are birthdays in the format \"1999/1/1\" and \"1999-1-1\". Include both splitter characters. \n",
        "char[] delimiterChars = { '-', '/'};\n",
        "\n",
        "var birthday = \n",
        "    ((IEnumerable<string>)europeDf[\"Birthday\"])\n",
        "        .Select(x => x.Split(delimiterChars));\n",
        "\n",
        "europeDf[\"Birthday\"] = new StringDataFrameColumn(\"Birthday\", birthday.Select(x => x[0] + \"-\" + x[2] + \"-\" + x[1]));"
      ]
    },
    {
      "cell_type": "markdown",
      "metadata": {},
      "source": [
        "To combine the DataFrames they need to look identical. Let's sample some data and confirm the shape is the same. "
      ]
    },
    {
      "cell_type": "code",
      "execution_count": null,
      "metadata": {
        "dotnet_interactive": {
          "language": "csharp"
        },
        "vscode": {
          "languageId": "polyglot-notebook"
        }
      },
      "outputs": [],
      "source": [
        "europeDf.Sample(1)"
      ]
    },
    {
      "cell_type": "code",
      "execution_count": null,
      "metadata": {
        "dotnet_interactive": {
          "language": "csharp"
        },
        "vscode": {
          "languageId": "polyglot-notebook"
        }
      },
      "outputs": [],
      "source": [
        "usaDf.Sample(1)"
      ]
    },
    {
      "cell_type": "markdown",
      "metadata": {},
      "source": [
        "## Combine data sources"
      ]
    },
    {
      "cell_type": "code",
      "execution_count": 24,
      "metadata": {
        "dotnet_interactive": {
          "language": "csharp"
        },
        "vscode": {
          "languageId": "polyglot-notebook"
        }
      },
      "outputs": [],
      "source": [
        "var allPlayersDf = usaDf.Clone();\n",
        "europeDf.Rows.ToList<DataFrameRow>().ForEach(row => {allPlayersDf.Append(row, /*append in place*/ true);})"
      ]
    },
    {
      "cell_type": "markdown",
      "metadata": {},
      "source": [
        "We now have one DataFrame with all the player information. "
      ]
    },
    {
      "cell_type": "code",
      "execution_count": null,
      "metadata": {
        "dotnet_interactive": {
          "language": "csharp"
        },
        "vscode": {
          "languageId": "polyglot-notebook"
        }
      },
      "outputs": [],
      "source": [
        "allPlayersDf"
      ]
    },
    {
      "cell_type": "markdown",
      "metadata": {},
      "source": [
        "The lists are combined together, but we have some missing data for Draft Year and Overall Draft position. Let's replace those nulls so they don't mess up our training. "
      ]
    },
    {
      "cell_type": "code",
      "execution_count": null,
      "metadata": {
        "dotnet_interactive": {
          "language": "csharp"
        },
        "vscode": {
          "languageId": "polyglot-notebook"
        }
      },
      "outputs": [],
      "source": [
        "// We're missing information in DraftYear and OverallDraft\n",
        "allPlayersDf[\"DraftYear\"] = allPlayersDf[\"DraftYear\"].FillNulls(2000); \n",
        "\n",
        "var medianDraft = allPlayersDf[\"OverallDraft\"].Median();\n",
        "allPlayersDf[\"OverallDraft\"] = allPlayersDf[\"OverallDraft\"].FillNulls(medianDraft); \n",
        "\n",
        "allPlayersDf"
      ]
    },
    {
      "cell_type": "markdown",
      "metadata": {},
      "source": [
        "Now that our player information looks good, let's take a look at the salary data we're trying to union with.\n",
        "\n",
        "This file is in JSON format. DataFrames don't support loading from JSON yet. There is a work around. It's fairly easy to convert from IDataView to DataFrame. Let's use that method to get what we need. "
      ]
    },
    {
      "cell_type": "code",
      "execution_count": 27,
      "metadata": {
        "dotnet_interactive": {
          "language": "csharp"
        },
        "vscode": {
          "languageId": "polyglot-notebook"
        }
      },
      "outputs": [],
      "source": [
        "public class PlayerSalary\n",
        "{\n",
        "    public string Name { get; set; }\n",
        "\n",
        "    public float Salary { get; set; }\n",
        "}"
      ]
    },
    {
      "cell_type": "code",
      "execution_count": null,
      "metadata": {
        "dotnet_interactive": {
          "language": "csharp"
        },
        "vscode": {
          "languageId": "polyglot-notebook"
        }
      },
      "outputs": [],
      "source": [
        "using System.Text.Json;\n",
        "using System.IO; \n",
        "using Microsoft.ML; \n",
        "\n",
        "// Read in JSON file\n",
        "string jsonString = File.ReadAllText(@\"data/playerSalary.json\");\n",
        "var players = JsonSerializer.Deserialize<List<PlayerSalary>>(jsonString);\n",
        "\n",
        "// Load it into an IDataView\n",
        "MLContext mlContext = new MLContext();\n",
        "IDataView data = mlContext.Data.LoadFromEnumerable<PlayerSalary>(players);\n",
        "\n",
        "// Convert to a DataFrame\n",
        "var playerSalaryDf = data.ToDataFrame();\n",
        "\n",
        "playerSalaryDf"
      ]
    },
    {
      "cell_type": "markdown",
      "metadata": {},
      "source": [
        "### Convert two columns into one\n",
        "\n",
        "Our player salary information has the name format \"First Last\". The player details has two separate columns for first and last name. Let's fix this. "
      ]
    },
    {
      "cell_type": "code",
      "execution_count": 30,
      "metadata": {
        "dotnet_interactive": {
          "language": "csharp"
        },
        "vscode": {
          "languageId": "polyglot-notebook"
        }
      },
      "outputs": [],
      "source": [
        "// Grab first and last name. Zip them together into one list. \n",
        "var firstNames = (IEnumerable<string>)allPlayersDf[\"First Name\"]; \n",
        "var lastNames = (IEnumerable<string>)allPlayersDf[\"Last Name\"];\n",
        "var fullNames = firstNames.Zip(lastNames, (first, last) => first + \" \" + last); \n",
        "\n",
        "// Create the new column from the combined names\n",
        "allPlayersDf[\"FullName\"] = new StringDataFrameColumn(\"FullName\", fullNames); \n",
        "\n",
        "// Cleanup the unneeded first and last name columns \n",
        "allPlayersDf.Columns.Remove(\"First Name\"); \n",
        "allPlayersDf.Columns.Remove(\"Last Name\"); "
      ]
    },
    {
      "cell_type": "markdown",
      "metadata": {},
      "source": [
        "### Merge two DataFrames together\n",
        " \n",
        "Join the player salaries with player information. We will join on the Name information. "
      ]
    },
    {
      "cell_type": "code",
      "execution_count": 31,
      "metadata": {
        "dotnet_interactive": {
          "language": "csharp"
        },
        "vscode": {
          "languageId": "polyglot-notebook"
        }
      },
      "outputs": [],
      "source": [
        "// Merge the player salary information with the player details. \n",
        "var allPlayersWithSalaries = allPlayersDf.Merge(playerSalaryDf, new string[] {\"FullName\"}, new string[] {\"Name\"});\n",
        "\n",
        "// We now have two columns with names. Remove one. \n",
        "allPlayersWithSalaries.Columns.Remove(\"Name\");\n",
        "\n",
        "// Just for fun, let's put them in alphabetical order \n",
        "allPlayersWithSalaries = allPlayersWithSalaries.OrderBy(\"FullName\"); "
      ]
    },
    {
      "cell_type": "code",
      "execution_count": null,
      "metadata": {
        "dotnet_interactive": {
          "language": "csharp"
        },
        "vscode": {
          "languageId": "polyglot-notebook"
        }
      },
      "outputs": [],
      "source": [
        "allPlayersWithSalaries"
      ]
    },
    {
      "cell_type": "markdown",
      "metadata": {},
      "source": [
        "Everything looks really good, expect we have on player without a salary. That won't be useful to us. Let's drop this null value from the table. "
      ]
    },
    {
      "cell_type": "code",
      "execution_count": null,
      "metadata": {
        "dotnet_interactive": {
          "language": "csharp"
        },
        "vscode": {
          "languageId": "polyglot-notebook"
        }
      },
      "outputs": [],
      "source": [
        "allPlayersWithSalaries = allPlayersWithSalaries.DropNulls();\n",
        "allPlayersWithSalaries"
      ]
    },
    {
      "cell_type": "markdown",
      "metadata": {},
      "source": [
        "## Save results\n",
        "\n",
        "We succesfully combined three different sources into one. Now it's time to save our results into a .csv file that can be used for training. "
      ]
    },
    {
      "cell_type": "code",
      "execution_count": 1,
      "metadata": {
        "dotnet_interactive": {
          "language": "csharp"
        },
        "vscode": {
          "languageId": "polyglot-notebook"
        }
      },
      "outputs": [],
      "source": [
        "DataFrame.WriteCsv(allPlayersWithSalaries, \"allPlayers.csv\", ',')"
      ]
    }
  ],
  "metadata": {
    "kernelspec": {
      "display_name": ".NET (C#)",
      "language": "C#",
      "name": ".net-csharp"
    },
    "language_info": {
      "file_extension": ".cs",
      "mimetype": "text/x-csharp",
      "name": "C#",
      "pygments_lexer": "csharp",
      "version": "8.0"
    },
    "polyglot_notebook": {
      "kernelInfo": {
        "defaultKernelName": "csharp",
        "items": [
          {
            "aliases": [],
            "name": "csharp"
          }
        ]
      }
    }
  },
  "nbformat": 4,
  "nbformat_minor": 4
}
